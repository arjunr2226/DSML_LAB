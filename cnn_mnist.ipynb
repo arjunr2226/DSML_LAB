{
  "cells": [
    {
      "cell_type": "code",
      "execution_count": null,
      "metadata": {
        "id": "SsDrF90eDh_t"
      },
      "outputs": [],
      "source": [
        "import numpy as np\n",
        "from keras.datasets import mnist"
      ]
    },
    {
      "cell_type": "code",
      "execution_count": null,
      "metadata": {
        "id": "9njhTMB5Eufq"
      },
      "outputs": [],
      "source": [
        "(X_train, y_train), (X_test, y_test) = mnist.load_data()"
      ]
    },
    {
      "cell_type": "code",
      "execution_count": null,
      "metadata": {
        "colab": {
          "base_uri": "https://localhost:8080/"
        },
        "id": "HR2Iiql3E2RM",
        "outputId": "48d601ba-7861-4e27-9b56-9f806badce0b"
      },
      "outputs": [
        {
          "data": {
            "text/plain": [
              "(60000, 28, 28)"
            ]
          },
          "execution_count": 58,
          "metadata": {},
          "output_type": "execute_result"
        }
      ],
      "source": [
        "X_train.shape"
      ]
    },
    {
      "cell_type": "code",
      "execution_count": null,
      "metadata": {
        "colab": {
          "base_uri": "https://localhost:8080/"
        },
        "id": "sHEXdsiwE4WG",
        "outputId": "bf0ee731-e3df-4b6d-bf65-16beca6497bf"
      },
      "outputs": [
        {
          "data": {
            "text/plain": [
              "(60000, 28, 28, 1)"
            ]
          },
          "execution_count": 59,
          "metadata": {},
          "output_type": "execute_result"
        }
      ],
      "source": [
        "X_train = X_train.reshape(len(X_train), 28, 28, 1)\n",
        "X_test = X_test.reshape(len(X_test), 28, 28, 1)\n",
        "\n",
        "X_train.shape"
      ]
    },
    {
      "cell_type": "code",
      "execution_count": null,
      "metadata": {
        "colab": {
          "base_uri": "https://localhost:8080/"
        },
        "id": "CRS_eBs9FIdz",
        "outputId": "10f12679-07d4-48a9-f589-598e210c4b78"
      },
      "outputs": [
        {
          "data": {
            "text/plain": [
              "(60000,)"
            ]
          },
          "execution_count": 60,
          "metadata": {},
          "output_type": "execute_result"
        }
      ],
      "source": [
        "y_train.shape"
      ]
    },
    {
      "cell_type": "code",
      "execution_count": null,
      "metadata": {
        "colab": {
          "base_uri": "https://localhost:8080/"
        },
        "id": "4lt0oKlVFKlt",
        "outputId": "69e7b032-a4a4-4660-8079-b8cc4168f0b1"
      },
      "outputs": [
        {
          "data": {
            "text/plain": [
              "(60000, 1)"
            ]
          },
          "execution_count": 61,
          "metadata": {},
          "output_type": "execute_result"
        }
      ],
      "source": [
        "y_train = y_train.reshape(len(y_train), 1)\n",
        "y_test = y_test.reshape(len(y_test), 1)\n",
        "\n",
        "y_train.shape"
      ]
    },
    {
      "cell_type": "code",
      "execution_count": null,
      "metadata": {
        "id": "aNO_DAIMSt2-"
      },
      "outputs": [],
      "source": [
        "X_train = X_train.astype(np.float64)\n",
        "X_test = X_test.astype(np.float64)\n",
        "y_train = y_train.astype(np.float64)\n",
        "y_test = y_test.astype(np.float64)"
      ]
    },
    {
      "cell_type": "code",
      "execution_count": null,
      "metadata": {
        "id": "OtGf_iydFUKX"
      },
      "outputs": [],
      "source": [
        "X_train = X_train/255.0\n",
        "X_test = X_test/255.0"
      ]
    },
    {
      "cell_type": "code",
      "execution_count": null,
      "metadata": {
        "id": "siDArQzjFjIy"
      },
      "outputs": [],
      "source": [
        "from tensorflow.keras.models import Sequential\n",
        "from tensorflow.keras.layers import Conv2D, AveragePooling2D, Dense, Flatten, ZeroPadding2D"
      ]
    },
    {
      "cell_type": "code",
      "execution_count": null,
      "metadata": {
        "id": "3e3Wmn2ZF0zU"
      },
      "outputs": [],
      "source": [
        "model = Sequential([\n",
        "    ZeroPadding2D((2, 2), input_shape=(28, 28, 1)),\n",
        "    Conv2D(6, (5,5), activation=\"tanh\", input_shape=(32, 32, 1)),\n",
        "    AveragePooling2D((2, 2)),\n",
        "\n",
        "    Conv2D(16, (5, 5), activation=\"tanh\"),\n",
        "    AveragePooling2D((2, 2)),\n",
        "\n",
        "    Conv2D(120, (5, 5), activation=\"tanh\"),\n",
        "\n",
        "    Flatten(),\n",
        "    Dense(84, activation=\"tanh\"),\n",
        "    Dense(10, activation=\"softmax\")\n",
        "])"
      ]
    },
    {
      "cell_type": "code",
      "execution_count": null,
      "metadata": {
        "id": "ZMTFdRaHGdR4"
      },
      "outputs": [],
      "source": [
        "model.compile(loss = \"sparse_categorical_crossentropy\", optimizer=\"adam\", metrics=[\"accuracy\"])"
      ]
    },
    {
      "cell_type": "code",
      "execution_count": null,
      "metadata": {
        "colab": {
          "base_uri": "https://localhost:8080/"
        },
        "id": "nFmg8_2iHAsA",
        "outputId": "c3a9efde-fddf-4609-a6ab-e4e9bd5325b1"
      },
      "outputs": [
        {
          "name": "stdout",
          "output_type": "stream",
          "text": [
            "Epoch 1/5\n",
            "938/938 [==============================] - 36s 37ms/step - loss: 0.5679 - accuracy: 0.8172 - val_loss: 0.2855 - val_accuracy: 0.9149\n",
            "Epoch 2/5\n",
            "938/938 [==============================] - 34s 36ms/step - loss: 0.2573 - accuracy: 0.9203 - val_loss: 0.2105 - val_accuracy: 0.9362\n",
            "Epoch 3/5\n",
            "938/938 [==============================] - 34s 36ms/step - loss: 0.1970 - accuracy: 0.9386 - val_loss: 0.1766 - val_accuracy: 0.9458\n",
            "Epoch 4/5\n",
            "938/938 [==============================] - 34s 36ms/step - loss: 0.1548 - accuracy: 0.9524 - val_loss: 0.1475 - val_accuracy: 0.9538\n",
            "Epoch 5/5\n",
            "938/938 [==============================] - 33s 35ms/step - loss: 0.1282 - accuracy: 0.9606 - val_loss: 0.1226 - val_accuracy: 0.9628\n"
          ]
        },
        {
          "data": {
            "text/plain": [
              "<keras.src.callbacks.History at 0x7c55515edde0>"
            ]
          },
          "execution_count": 69,
          "metadata": {},
          "output_type": "execute_result"
        }
      ],
      "source": [
        "model.fit(X_train, y_train, epochs=5, batch_size=64, validation_data=(X_test, y_test))"
      ]
    },
    {
      "cell_type": "code",
      "execution_count": null,
      "metadata": {
        "colab": {
          "base_uri": "https://localhost:8080/"
        },
        "id": "8oouAn0XHI0h",
        "outputId": "608133df-f45c-4537-e131-13c78d147da5"
      },
      "outputs": [
        {
          "name": "stdout",
          "output_type": "stream",
          "text": [
            "313/313 [==============================] - 3s 10ms/step - loss: 0.1226 - accuracy: 0.9628\n"
          ]
        },
        {
          "data": {
            "text/plain": [
              "0.9628000259399414"
            ]
          },
          "execution_count": 70,
          "metadata": {},
          "output_type": "execute_result"
        }
      ],
      "source": [
        "test_loss, test_accuracy = model.evaluate(X_test, y_test)\n",
        "test_accuracy"
      ]
    }
  ],
  "metadata": {
    "colab": {
      "provenance": []
    },
    "kernelspec": {
      "display_name": "Python 3",
      "name": "python3"
    },
    "language_info": {
      "name": "python"
    }
  },
  "nbformat": 4,
  "nbformat_minor": 0
}
